{
 "cells": [
  {
   "cell_type": "code",
   "execution_count": 1,
   "metadata": {},
   "outputs": [],
   "source": [
    "import serial\n",
    "import numpy as np\n",
    "from math import log\n",
    "from math import sqrt\n",
    "from time import sleep\n",
    "import matplotlib.pyplot as plt\n",
    "from IPython.display import clear_output\n",
    "from tqdm.notebook import trange, tqdm\n",
    "import scipy.io as sio\n",
    "from sklearn.linear_model import LinearRegression\n",
    "import csv"
   ]
  },
  {
   "cell_type": "code",
   "execution_count": 2,
   "metadata": {},
   "outputs": [],
   "source": [
    "def write_and_read(ser, cmd):\n",
    "    to_write = cmd+\"\\n\"\n",
    "    ser.write(to_write.encode())\n",
    "    res = ser.readline().decode().rstrip('\\r\\n')\n",
    "    print('({}): OK ({})'.format(to_write.rstrip('\\n'), res) )\n",
    "    return res"
   ]
  },
  {
   "cell_type": "code",
   "execution_count": 3,
   "metadata": {},
   "outputs": [],
   "source": [
    "def flush_serial(ser):\n",
    "    while True:\n",
    "        line = ser.readline().decode().rstrip('\\r\\n')\n",
    "        if line == \"\":\n",
    "            break\n",
    "        else:\n",
    "            print(line)\n",
    "\n",
    "RANGE_5V_UNI        =  \"5V_UNI\"\n",
    "RANGE_10V_UNI       =  \"10V_UNI\"\n",
    "RANGE_5V_BIP        =  \"5V_BIP\"\n",
    "RANGE_10V_BIP       =  \"10V_BIP\"\n",
    "RANGE_20mA_UNI      =  \"20mA_UNI\"\n",
    "RANGE_24mA_UNI      =  \"24mA_UNI\"\n",
    "RANGE_4_24mA        =  \"4_24mA\"\n",
    "RANGE_20mA_BIP      =  \"20mA_BIP\"\n",
    "RANGE_24mA_BIP      =  \"24mA_BIP\"\n",
    "RANGE_22mA_OVR      =  \"22mA_OVR\"\n",
    "\n",
    "def config_channel_mode(ser, slot, ch, md):\n",
    "    cmd = \"{}:{}:CONF:\".format(slot,ch)+md\n",
    "    write_and_read(ser, cmd)\n",
    "    # print(cmd)\n",
    "\n",
    "def set_current(ser, slot, ch, value, md):\n",
    "    if md==RANGE_20mA_UNI or md==RANGE_24mA_UNI or md==RANGE_4_24mA or md==RANGE_20mA_BIP or md==RANGE_24mA_BIP or md==RANGE_22mA_OVR:\n",
    "        dacCode = convert_dac_code(value, md)\n",
    "        if dacCode>=0:\n",
    "            cmd = \"{}:{}:CURR:{}\".format(slot, ch, dacCode)\n",
    "            write_and_read(ser, cmd)\n",
    "        else:\n",
    "            print(\"Error: Value out of range!\")\n",
    "    else:\n",
    "        print(\"Mode error: Channel {} is not in current mode\".format(ch))\n",
    "\n",
    "def set_voltage(ser, slot, ch, value, md):\n",
    "    if md==RANGE_5V_UNI or md==RANGE_10V_UNI or md==RANGE_5V_BIP or md==RANGE_10V_BIP:\n",
    "        dacCode = convert_dac_code(value, md)\n",
    "        if dacCode>=0:\n",
    "            cmd = \"{}:{}:VOLT:{}\".format(slot, ch, dacCode)\n",
    "            write_and_read(ser, cmd)\n",
    "        else:\n",
    "            print(\"Error: Value out of range!\")\n",
    "    else:\n",
    "        print(\"Mode error: Channel {} in Slot {} is not in voltage mode\".format(ch, slot))\n",
    "\n",
    "AD5753_REFIN           = \"AD_REFIN\"\n",
    "AD5753_REFGND          = \"AD_REFGND\"\n",
    "AD5753_ISENSE          = \"AD_CURR\"\n",
    "AD5753_LOADP           = \"AD_VLOAD\"\n",
    "MAX11254_CURRENT       = \"MAX_CURR\"\n",
    "MAX11254_SENSE_VOLTAGE = \"MAX_VSENSE\"\n",
    "MAX11254_LOAD_VOLTAGE  = \"MAX_VLOAD\"\n",
    "\n",
    "def measure(ser, slot, ch, md):\n",
    "    cmd = \"{}:{}:MEAS:\".format(slot,ch)+md\n",
    "    adc_code = int(write_and_read(ser, cmd))\n",
    "    res = convert_adc_code(adc_code, md)\n",
    "    return res\n",
    "\n",
    "INTERNAL_LOAD = 1\n",
    "EXTERNAL_LOAD = 0\n",
    "\n",
    "def toggle_output_switch(ser, slot, ch, value):\n",
    "    cmd = \"{}:{}:REFR:{}\".format(slot, ch, value)\n",
    "    write_and_read(ser, cmd)\n",
    "    return\n",
    "\n",
    "def reset(ser):\n",
    "    cmd = \"*RST\"\n",
    "    write_and_read(ser, cmd)\n",
    "    flush_serial(ser)\n",
    "    time.sleep(1)\n",
    "    \n",
    "def convert_dac_code(value, md):\n",
    "    if md == RANGE_5V_UNI and value >= 0 and value <= 5:\n",
    "        return int(value*65535/5)\n",
    "    elif md == RANGE_10V_UNI and value >= 0 and value <= 10:\n",
    "        return int(value*65535/10)\n",
    "    elif md == RANGE_5V_BIP and value >= -5 and value <= 5:\n",
    "        return int(value*32767/5)\n",
    "    elif md == RANGE_10V_BIP and value >= -10 and value <= 10:\n",
    "        return int(value*32765/10)\n",
    "    elif md == RANGE_20mA_UNI and value >= 0 and value <= 20:\n",
    "        return int(value*65535/20)\n",
    "    elif md == RANGE_24mA_UNI and value >= 0 and value <= 24:\n",
    "        return int(value*65535/24)\n",
    "    elif md == RANGE_4_24mA_UNI and value >= 4 and value <= 24:\n",
    "        return int((value-4)*65535/20)\n",
    "    elif md == RANGE_20mA_BIP and value >= -20 and value <= 20:\n",
    "        return int(value*32767/20)\n",
    "    elif md == RANGE_24mA_BIP and value >= -24 and value <= 24:\n",
    "        return int((value+1)*65535/23)\n",
    "    else:\n",
    "        return -1\n",
    "\n",
    "def convert_adc_code(value, md):\n",
    "    if md == AD5753_REFIN:\n",
    "        return value/4096*2.75\n",
    "    elif md == AD5753_REFGND:\n",
    "        return value/4096*2.5\n",
    "    elif md == AD5753_ISENSE:\n",
    "        return value/4096*2.5\n",
    "    elif md == AD5753_LOADP:\n",
    "        return 30*value/4096-15\n",
    "    elif md == MAX11254_CURRENT:\n",
    "        return (value/8388608-1)*2.5\n",
    "    elif md == MAX11254_SENSE_VOLTAGE:\n",
    "        return (value/8388608-1)*2.5\n",
    "    elif md == MAX11254_LOAD_VOLTAGE:\n",
    "        return (value/8388608-1)*2.5\n",
    "    else:\n",
    "        return -1\n",
    "\n",
    "def set_channel_soc(ser, slot, ch, soc):\n",
    "    cmd = \"{}:{}:CALO:{}\".format(slot, ch, soc)\n",
    "    write_and_read(ser, cmd)\n",
    "\n",
    "def get_channel_soc(ser, slot, ch):\n",
    "    cmd = \"{}:{}:CALO?\".format(slot, ch)\n",
    "    soc = int(write_and_read(ser, cmd))\n",
    "    return soc\n",
    "\n",
    "def set_channel_sgc(ser, slot, ch, sgc):\n",
    "    cmd = \"{}:{}:CALG:{}\".format(slot, ch, sgc)\n",
    "    write_and_read(ser, cmd)\n",
    "\n",
    "def get_channel_sgc(ser, slot, ch):\n",
    "    cmd = \"{}:{}:CALG?\".format(slot, ch)\n",
    "    sgc = int(write_and_read(ser, cmd))\n",
    "    return sgc\n",
    "\n",
    "def get_occupancy(ser):\n",
    "    cmd = \"*OCC?\"\n",
    "    write_and_read(ser, cmd)\n",
    "    occupancy = []\n",
    "    for slot in range(16):\n",
    "        occupancy.append(int(ser.readline().decode().rstrip('\\r\\n'),2))\n",
    "        if (occupancy[slot]>0):\n",
    "            print(\"Slot {}:\".format(slot), end=\" \")\n",
    "            for ch in range(8):\n",
    "                if ( occupancy[slot]&(1<<ch) ):\n",
    "                    print(\"Ch {}: good,\".format(ch), end=\" \")\n",
    "                else:\n",
    "                    print(\"Ch {}: bad,\".format(ch), end=\" \")\n",
    "            print(\"\")\n",
    "        else:\n",
    "            print(\"Slot {} is not used\".format(slot))\n",
    "    occupancy = np.asarray(occupancy)\n",
    "    return occupancy"
   ]
  },
  {
   "cell_type": "code",
   "execution_count": 4,
   "metadata": {},
   "outputs": [
    {
     "name": "stdout",
     "output_type": "stream",
     "text": [
      "(*OCC?): OK (Occupancy:)\n",
      "Slot 0 is not used\n",
      "Slot 1: Ch 0: good, Ch 1: bad, Ch 2: good, Ch 3: good, Ch 4: good, Ch 5: good, Ch 6: good, Ch 7: bad, \n",
      "Slot 2 is not used\n",
      "Slot 3 is not used\n",
      "Slot 4 is not used\n",
      "Slot 5 is not used\n",
      "Slot 6 is not used\n",
      "Slot 7 is not used\n",
      "Slot 8 is not used\n",
      "Slot 9 is not used\n",
      "Slot 10 is not used\n",
      "Slot 11 is not used\n",
      "Slot 12 is not used\n",
      "Slot 13 is not used\n",
      "Slot 14 is not used\n",
      "Slot 15 is not used\n"
     ]
    }
   ],
   "source": [
    "# example of using \"*OCC\" command\n",
    "with serial.Serial('COM3', 500000, timeout=2) as ser: \n",
    "    flush_serial(ser) #flush serial port\n",
    "    get_occupancy(ser)"
   ]
  },
  {
   "cell_type": "code",
   "execution_count": 5,
   "metadata": {},
   "outputs": [],
   "source": [
    "def save_csv(data, filename):\n",
    "    with open(filename, 'w', newline='') as csv_file:\n",
    "        csv_writer = csv.writer(csv_file, delimiter=',')\n",
    "        nRep = int((data.shape[1]-1)/3)\n",
    "        firstLine = ['dac_code']\n",
    "        for idx in range(nRep):\n",
    "            firstLine.append('iSense')\n",
    "            firstLine.append('VSense')\n",
    "            firstLine.append('VLoad')\n",
    "        csv_writer.writerow(firstLine)\n",
    "        csv_writer.writerows(data)\n",
    "\n",
    "def read_csv(filename):\n",
    "    data = []\n",
    "    with open(filename, 'r') as csv_file:\n",
    "        reader = csv.reader(csv_file, delimiter=',')\n",
    "        isFirstLine = True\n",
    "        for row in reader:\n",
    "            if not isFirstLine:\n",
    "                data.append([int(i) for i in row])\n",
    "            isFirstLine = False\n",
    "        data = np.asarray(data)\n",
    "    return data"
   ]
  },
  {
   "cell_type": "code",
   "execution_count": 6,
   "metadata": {},
   "outputs": [],
   "source": [
    "def evalute(x,data,std):\n",
    "    x = x.reshape((-1,1))\n",
    "    reg = LinearRegression().fit(x, data)\n",
    "    R2 = reg.score(x,data)\n",
    "    residual = data-reg.predict(x)\n",
    "    inl = max(abs(residual))/(max(data)/65536)\n",
    "    MSE = np.square(residual).mean()\n",
    "    res = log(MSE/max(data),2)\n",
    "    return R2, res, inl, residual"
   ]
  },
  {
   "cell_type": "code",
   "execution_count": 9,
   "metadata": {},
   "outputs": [
    {
     "name": "stdout",
     "output_type": "stream",
     "text": [
      "(1:0:CONF:5V_UNI): OK (DONE)\n",
      "(1:0:VOLT:6553): OK (DONE)\n",
      "(1:0:MEAS:MAX_VSENSE): OK (8554845)\n",
      "result:0.04954248666763306\n"
     ]
    }
   ],
   "source": [
    "# example\n",
    "with serial.Serial('COM3', 500000, timeout=2) as ser: \n",
    "    flush_serial(ser) #flush serial port\n",
    "    slot = 1\n",
    "    ch = 0\n",
    "    md = RANGE_5V_UNI\n",
    "\n",
    "    config_channel_mode(ser, slot, ch, md) #config channel range\n",
    "\n",
    "    set_voltage(ser, slot, ch, 0.5, md) #set voltage to 1V\n",
    "\n",
    "    data = measure(ser, slot, ch, MAX11254_SENSE_VOLTAGE) #make a measurement\n",
    "    print(\"result:{}\".format(data))"
   ]
  },
  {
   "cell_type": "code",
   "execution_count": null,
   "metadata": {},
   "outputs": [
    {
     "data": {
      "application/vnd.jupyter.widget-view+json": {
       "model_id": "4353f14174ef41efbcc131181f82120d",
       "version_major": 2,
       "version_minor": 0
      },
      "text/plain": [
       "HBox(children=(FloatProgress(value=0.0, description='Total', max=16.0, style=ProgressStyle(description_width='…"
      ]
     },
     "metadata": {},
     "output_type": "display_data"
    },
    {
     "data": {
      "application/vnd.jupyter.widget-view+json": {
       "model_id": "",
       "version_major": 2,
       "version_minor": 0
      },
      "text/plain": [
       "HBox(children=(FloatProgress(value=0.0, description='Slot 0', max=8.0, style=ProgressStyle(description_width='…"
      ]
     },
     "metadata": {},
     "output_type": "display_data"
    },
    {
     "data": {
      "application/vnd.jupyter.widget-view+json": {
       "model_id": "4a61239562cb427cb7a27442754bfe62",
       "version_major": 2,
       "version_minor": 0
      },
      "text/plain": [
       "HBox(children=(FloatProgress(value=0.0, description='Slot 1', max=8.0, style=ProgressStyle(description_width='…"
      ]
     },
     "metadata": {},
     "output_type": "display_data"
    },
    {
     "data": {
      "application/vnd.jupyter.widget-view+json": {
       "model_id": "",
       "version_major": 2,
       "version_minor": 0
      },
      "text/plain": [
       "HBox(children=(FloatProgress(value=0.0, description='Channel 0:Voltage', max=256.0, style=ProgressStyle(descri…"
      ]
     },
     "metadata": {},
     "output_type": "display_data"
    },
    {
     "data": {
      "application/vnd.jupyter.widget-view+json": {
       "model_id": "",
       "version_major": 2,
       "version_minor": 0
      },
      "text/plain": [
       "HBox(children=(FloatProgress(value=0.0, description='Channel 0:Current', max=256.0, style=ProgressStyle(descri…"
      ]
     },
     "metadata": {},
     "output_type": "display_data"
    },
    {
     "data": {
      "application/vnd.jupyter.widget-view+json": {
       "model_id": "8bef46ac206b457aa3af58959e903fdc",
       "version_major": 2,
       "version_minor": 0
      },
      "text/plain": [
       "HBox(children=(FloatProgress(value=0.0, description='Channel 2:Voltage', max=256.0, style=ProgressStyle(descri…"
      ]
     },
     "metadata": {},
     "output_type": "display_data"
    }
   ],
   "source": [
    "# calibration\n",
    "with serial.Serial('COM3', 500000, timeout=3) as ser: \n",
    "    flush_serial(ser)\n",
    "    occupancy = get_occupancy(ser)\n",
    "    flush_serial(ser)\n",
    "    write_and_read(ser,\"*CAL\")\n",
    "    clear_output()\n",
    "    nCal = 256\n",
    "    for slot in trange(16, desc=\"Total\"):\n",
    "        for ch in trange(8, desc=\"Slot {}\".format(slot), leave=False):\n",
    "            if ( (occupancy[slot]&(1<<ch)) ):\n",
    "                cal1 = []\n",
    "                cal2 = []\n",
    "                for index in trange(nCal, desc='Channel {}:Voltage'.format(ch), leave=False):\n",
    "                    res = ser.readline().decode().rstrip('\\r\\n')\n",
    "                    cal1.append(np.asarray(res.split(\",\"),int))\n",
    "                cal1 = np.asarray(cal1)\n",
    "                for index in trange(nCal, desc='Channel {}:Current'.format(ch), leave=False):\n",
    "                    res = ser.readline().decode().rstrip('\\r\\n')\n",
    "                    cal2.append(np.asarray(res.split(\",\"),int))\n",
    "                cal2 = np.asarray(cal2)\n",
    "                filename = 'calibration/Slot{}_Ch{}_cal1.csv'.format(slot,ch)\n",
    "                save_csv(cal1, filename)\n",
    "                filename = 'calibration/Slot{}_Ch{}_cal2.csv'.format(slot,ch)\n",
    "                save_csv(cal2, filename)\n",
    "    flush_serial(ser)"
   ]
  },
  {
   "cell_type": "code",
   "execution_count": 48,
   "metadata": {
    "scrolled": true
   },
   "outputs": [
    {
     "data": {
      "text/plain": [
       "<matplotlib.legend.Legend at 0x2c99d804748>"
      ]
     },
     "execution_count": 48,
     "metadata": {},
     "output_type": "execute_result"
    },
    {
     "data": {
      "image/png": "[encoded data removed]",
      "text/plain": [
       "<Figure size 576x432 with 2 Axes>"
      ]
     },
     "metadata": {
      "needs_background": "light"
     },
     "output_type": "display_data"
    },
    {
     "data": {
      "image/png": "[encoded data removed]",
      "text/plain": [
       "<Figure size 576x432 with 2 Axes>"
      ]
     },
     "metadata": {
      "needs_background": "light"
     },
     "output_type": "display_data"
    }
   ],
   "source": [
    "slot = 1\n",
    "ch = 0\n",
    "filename = 'calibration/Slot{}_Ch{}_cal1.csv'.format(slot,ch)\n",
    "cal1 = read_csv(filename)\n",
    "x1 = cal1[:,0]\n",
    "v = (x1-32768)/32768*10\n",
    "vSense = (cal1[:,2]/8388608-1)*25\n",
    "vLoad = (cal1[:,3]/8388608-1)*25\n",
    "length = cal1.shape[1]\n",
    "vSense_avg = 0\n",
    "for idx in range(2,length,3):\n",
    "    vSense_avg = vSense_avg+((cal1[:,idx])/8388608-1)*25\n",
    "vSense_avg = vSense_avg/5\n",
    "vLoad_avg = 0\n",
    "for idx in range(3,length,3):\n",
    "    vLoad_avg = vLoad_avg+((cal1[:,idx])/8388608-1)*25\n",
    "vLoad_avg = vLoad_avg/5\n",
    "fig,axs = plt.subplots(2,1,figsize=(8,6),gridspec_kw={'height_ratios': [3, 1]})\n",
    "axs[0].plot(x1,v,label = 'v')\n",
    "axs[0].plot(x1,vSense,label = 'vSense')\n",
    "axs[0].plot(x1,vLoad,label = 'vLoad')\n",
    "axs[0].set_xlim(0,65536)\n",
    "axs[0].set_ylabel('Voltage')\n",
    "axs[0].set_title('Calibration: Channel {}, Voltage'.format(ch))\n",
    "axs[0].legend()\n",
    "R2, res, inl, residual_vLoad = evalute(x1,vLoad,v)\n",
    "R2, res, inl, residual_vSense = evalute(x1,vSense,v)\n",
    "axs[0].text(8000, -10, r'$R^2$:{:.13}, Res:{:.5}bits, INL:{:.3}LSBs'.format(R2, res, inl), fontsize=15)\n",
    "# axs[1].plot(x1,residual_vLoad,label='vSense Residual')\n",
    "# axs[1].plot(x1,residual_vSense,label='vLoad Residual')\n",
    "axs[1].plot(x1,vLoad-v,label='vLoad-v')\n",
    "axs[1].plot(x1,vSense-v,label='vSense-v')\n",
    "axs[1].set_xlim(0,65536)\n",
    "axs[1].set_xlabel('DAC Code')\n",
    "axs[1].set_ylabel('Residual')\n",
    "axs[1].legend()\n",
    "\n",
    "filename = 'calibration/Slot{}_Ch{}_cal2.csv'.format(slot,ch)\n",
    "cal2 = read_csv(filename)\n",
    "x2 = cal2[:,0]\n",
    "i = (x1-32768)/32768*20\n",
    "iSense = (cal2[:,1]/8388608-1)*2.5/20/2.49*1000\n",
    "iSense_avg = 0\n",
    "for idx in range(1,length,3):\n",
    "    iSense_avg = iSense_avg+((cal1[:,idx])/8388608-1)/20/0.0249\n",
    "iSense_avg = iSense_avg/5\n",
    "fig,axs = plt.subplots(2,1,figsize=(8,6),gridspec_kw={'height_ratios': [3, 1]})\n",
    "axs[0].plot(x2,i,label = 'i')\n",
    "axs[0].plot(x2,iSense,label = 'iSense')\n",
    "axs[0].set_xlim(0,65536)\n",
    "axs[0].set_ylabel('Current')\n",
    "axs[0].set_title('Calibration: Channel {}, Current'.format(ch))\n",
    "axs[0].legend()\n",
    "R2, res, inl, residual_iSense = evalute(x2,iSense,i)\n",
    "axs[0].text(5000, -20, r'$R^2$:{:.13}, Res:{:.5}bits, INL:{:.5}LSBs'.format(R2, res, inl), fontsize=15)\n",
    "# axs[1].plot(x1,residual_iSense,label='iSense Residual')\n",
    "axs[1].plot(x1,iSense-i,label='iSense-i')\n",
    "axs[1].set_xlim(0,65536)\n",
    "axs[1].set_xlabel('DAC Code')\n",
    "axs[1].set_ylabel('Residual')\n",
    "axs[1].legend()"
   ]
  },
  {
   "cell_type": "code",
   "execution_count": 70,
   "metadata": {},
   "outputs": [
    {
     "name": "stdout",
     "output_type": "stream",
     "text": [
      "(1:0:CALG?): OK (8388607)\n",
      "(1:0:CALG:8441667): OK (Ch 0, gain 0x80cf43)\n",
      "(1:2:CALG?): OK (8388607)\n",
      "(1:2:CALG:8444348): OK (Ch 2, gain 0x80d9bc)\n",
      "(1:3:CALG?): OK (8388607)\n",
      "(1:3:CALG:8444361): OK (Ch 3, gain 0x80d9c9)\n",
      "(1:4:CALG?): OK (8388607)\n",
      "(1:4:CALG:8446452): OK (Ch 4, gain 0x80e1f4)\n",
      "(1:5:CALG?): OK (8388607)\n",
      "(1:5:CALG:8445881): OK (Ch 5, gain 0x80dfb9)\n",
      "(1:6:CALG?): OK (8388607)\n",
      "(1:6:CALG:8445780): OK (Ch 6, gain 0x80df54)\n"
     ]
    }
   ],
   "source": [
    "with serial.Serial('COM3', 500000, timeout=3) as ser:\n",
    "    flush_serial(ser)\n",
    "    slot = 1\n",
    "    n = 10\n",
    "    for ch in range(8):\n",
    "        if ( (occupancy[slot]&(1<<ch)) ):\n",
    "            current_sgc = get_channel_sgc(ser, slot, ch)\n",
    "            filename = 'calibration/Slot{}_Ch{}_cal1.csv'.format(slot,ch)\n",
    "            cal1 = read_csv(filename)\n",
    "            x1 = cal1[:,0]\n",
    "            v = (x1-32768)/32768*10\n",
    "            length = cal1.shape[1]\n",
    "            vSense_avg = 0\n",
    "            for idx in range(2,length,3):\n",
    "                vSense_avg = vSense_avg+((cal1[:,idx])/8388608-1)*25\n",
    "            vSense_avg = vSense_avg/n\n",
    "            gamma_v = 1+((vSense_avg-v)[-1]-(vSense_avg-v)[0])/20\n",
    "            sgc = int(current_sgc/gamma_v)\n",
    "#             print(sgc)\n",
    "            set_channel_sgc(ser, slot, ch, sgc)\n",
    "    \n",
    "            current_soc = get_channel_soc(ser, slot, ch)\n",
    "            if current_soc>8388607:\n",
    "                current_soc = current_soc-(1<<24)\n",
    "            offset_avg = 0\n",
    "            for idx in range(2,length,3):\n",
    "                offset_avg = offset_avg+cal1[128,idx]-(1<<23)\n",
    "            offset_avg = offset_avg/n\n",
    "            soc = int(current_soc+offset_avg)\n",
    "#             print(current_soc,soc)\n",
    "            if soc<0:\n",
    "                soc = (1<<24)-np.abs(soc)\n",
    "            set_channel_soc(ser, slot, ch, soc)"
   ]
  },
  {
   "cell_type": "code",
   "execution_count": null,
   "metadata": {},
   "outputs": [],
   "source": []
  }
 ],
 "metadata": {
  "kernelspec": {
   "display_name": "Python 3.7.3 64-bit",
   "language": "python",
   "name": "python37364bitdb2729257a174b15b5eb7d52babf91aa"
  },
  "language_info": {
   "codemirror_mode": {
    "name": "ipython",
    "version": 3
   },
   "file_extension": ".py",
   "mimetype": "text/x-python",
   "name": "python",
   "nbconvert_exporter": "python",
   "pygments_lexer": "ipython3",
   "version": "3.7.3"
  }
 },
 "nbformat": 4,
 "nbformat_minor": 2
}
