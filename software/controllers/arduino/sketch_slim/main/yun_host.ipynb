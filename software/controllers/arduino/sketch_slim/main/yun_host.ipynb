{
 "cells": [
  {
   "cell_type": "code",
   "execution_count": 1,
   "metadata": {
    "tags": []
   },
   "outputs": [
    {
     "output_type": "stream",
     "name": "stdout",
     "text": "importing Jupyter notebook from yun.ipynb\n"
    }
   ],
   "source": [
    "import import_ipynb\n",
    "import yun\n",
    "import numpy as np"
   ]
  },
  {
   "cell_type": "code",
   "execution_count": 2,
   "metadata": {
    "tags": []
   },
   "outputs": [
    {
     "output_type": "stream",
     "name": "stdout",
     "text": "telnet localhost 6571\n\n\nBusyBox v1.28.3 () built-in shell (ash)\n\n  _______                     ________        __\n |       |.-----.-----.-----.|  |  |  |.----.|  |_\n |   -   ||  _  |  -__|     ||  |  |  ||   _||   _|\n |_______||   __|_____|__|__||________||__|  |____|\n          |__| W I R E L E S S   F R E E D O M\n -----------------------------------------------------\n LEDEYun 17.11, r6773+1-8dd3a6e\n -----------------------------------------------------\nroot@LightlabYun:~# telnet localhost 6571\n\n"
    }
   ],
   "source": [
    "shell = yun.setup()"
   ]
  },
  {
   "cell_type": "code",
   "execution_count": 3,
   "metadata": {
    "tags": []
   },
   "outputs": [
    {
     "output_type": "stream",
     "name": "stdout",
     "text": "OK!\n"
    }
   ],
   "source": [
    "yun.ping(shell)"
   ]
  },
  {
   "cell_type": "code",
   "execution_count": 14,
   "metadata": {
    "tags": []
   },
   "outputs": [
    {
     "output_type": "stream",
     "name": "stdout",
     "text": "-----DB (0) Setup-----\n"
    },
    {
     "output_type": "error",
     "ename": "IndexError",
     "evalue": "list index out of range",
     "traceback": [
      "\u001b[1;31m---------------------------------------------------------------------------\u001b[0m",
      "\u001b[1;31mIndexError\u001b[0m                                Traceback (most recent call last)",
      "\u001b[1;32m<ipython-input-14-d2e72ee26491>\u001b[0m in \u001b[0;36m<module>\u001b[1;34m\u001b[0m\n\u001b[0;32m      3\u001b[0m \u001b[0moppcuancy\u001b[0m \u001b[1;33m=\u001b[0m \u001b[0mnp\u001b[0m\u001b[1;33m.\u001b[0m\u001b[0mzeros\u001b[0m\u001b[1;33m(\u001b[0m\u001b[1;36m16\u001b[0m\u001b[1;33m)\u001b[0m\u001b[1;33m\u001b[0m\u001b[1;33m\u001b[0m\u001b[0m\n\u001b[0;32m      4\u001b[0m \u001b[1;32mfor\u001b[0m \u001b[0mslot\u001b[0m \u001b[1;32min\u001b[0m \u001b[0mrange\u001b[0m\u001b[1;33m(\u001b[0m\u001b[1;36m16\u001b[0m\u001b[1;33m)\u001b[0m\u001b[1;33m:\u001b[0m\u001b[1;33m\u001b[0m\u001b[1;33m\u001b[0m\u001b[0m\n\u001b[1;32m----> 5\u001b[1;33m     \u001b[1;32mif\u001b[0m \u001b[1;33m(\u001b[0m\u001b[0myun\u001b[0m\u001b[1;33m.\u001b[0m\u001b[0mdb_is_exist\u001b[0m\u001b[1;33m(\u001b[0m\u001b[0mshell\u001b[0m\u001b[1;33m,\u001b[0m \u001b[0mslot\u001b[0m\u001b[1;33m)\u001b[0m\u001b[1;33m)\u001b[0m\u001b[1;33m:\u001b[0m\u001b[1;33m\u001b[0m\u001b[1;33m\u001b[0m\u001b[0m\n\u001b[0m\u001b[0;32m      6\u001b[0m         \u001b[0mslot_opy\u001b[0m \u001b[1;33m+=\u001b[0m \u001b[0myun\u001b[0m\u001b[1;33m.\u001b[0m\u001b[0mbit\u001b[0m\u001b[1;33m(\u001b[0m\u001b[0mslot\u001b[0m\u001b[1;33m)\u001b[0m\u001b[1;33m\u001b[0m\u001b[1;33m\u001b[0m\u001b[0m\n\u001b[0;32m      7\u001b[0m         \u001b[0mch_opy\u001b[0m \u001b[1;33m=\u001b[0m \u001b[1;36m0\u001b[0m\u001b[1;33m\u001b[0m\u001b[1;33m\u001b[0m\u001b[0m\n",
      "\u001b[1;32mc:\\Users\\zhang\\Git\\imebuildv2\\software\\controllers\\arduino\\sketch_slim\\main\\yun.ipynb\u001b[0m in \u001b[0;36mdb_is_exist\u001b[1;34m(shell, slot)\u001b[0m\n",
      "\u001b[1;32mc:\\Users\\zhang\\Git\\imebuildv2\\software\\controllers\\arduino\\sketch_slim\\main\\yun.ipynb\u001b[0m in \u001b[0;36meeprom_read\u001b[1;34m(shell, slot, addr, size)\u001b[0m\n",
      "\u001b[1;31mIndexError\u001b[0m: list index out of range"
     ]
    }
   ],
   "source": [
    "shell.recv(9999)\n",
    "slot_opy = 0\n",
    "oppcuancy = np.zeros(16)\n",
    "for slot in range(16):\n",
    "    if (yun.db_is_exist(shell, slot)): \n",
    "        slot_opy += yun.bit(slot)\n",
    "        ch_opy = 0\n",
    "        for ch in range(8):\n",
    "            if (yun.smu_is_exist(shell, slot, ch)):\n",
    "                ch_opy += yun.bit(slot)\n",
    "        yun.db_setup(shell, slot, ch_opy)\n",
    "        oppcuancy[ch] = ch_opy\n",
    "yun.bp_setup(shell, slot_opy)"
   ]
  },
  {
   "cell_type": "code",
   "execution_count": null,
   "metadata": {},
   "outputs": [],
   "source": []
  }
 ],
 "metadata": {
  "language_info": {
   "codemirror_mode": {
    "name": "ipython",
    "version": 3
   },
   "file_extension": ".py",
   "mimetype": "text/x-python",
   "name": "python",
   "nbconvert_exporter": "python",
   "pygments_lexer": "ipython3",
   "version": 3
  },
  "orig_nbformat": 2,
  "kernelspec": {
   "name": "python_defaultSpec_1594823216713",
   "display_name": "Python 3.7.3 64-bit ('base': conda)"
  }
 },
 "nbformat": 4,
 "nbformat_minor": 2
}