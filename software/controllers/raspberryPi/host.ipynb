{
 "cells": [
  {
   "cell_type": "markdown",
   "metadata": {},
   "source": [
    "### This is a turtoial of using the imebuildv2 board (RPi Controller) with python notebook"
   ]
  },
  {
   "cell_type": "markdown",
   "metadata": {},
   "source": [
    "#### 1 import necessary libraries"
   ]
  },
  {
   "cell_type": "code",
   "execution_count": 1,
   "metadata": {
    "tags": []
   },
   "outputs": [],
   "source": [
    "import base64\n",
    "import time\n",
    "import paramiko\n",
    "\n",
    "import serial\n",
    "import numpy as np\n",
    "from math import log\n",
    "from math import sqrt\n",
    "from time import sleep\n",
    "import matplotlib.pyplot as plt\n",
    "from IPython.display import clear_output\n",
    "from tqdm.notebook import trange, tqdm\n",
    "import scipy.io as sio\n",
    "from sklearn.linear_model import LinearRegression\n",
    "import csv"
   ]
  },
  {
   "cell_type": "markdown",
   "metadata": {},
   "source": [
    "#### 2 define some functions"
   ]
  },
  {
   "cell_type": "code",
   "execution_count": 2,
   "metadata": {},
   "outputs": [],
   "source": [
    "# send a command and return the controller's response\n",
    "def write_and_read(shell, cmd):\n",
    "    shell.send(cmd+\"\\n\")\n",
    "    count = 0\n",
    "    nTimeout = 3\n",
    "    while ( (count<nTimeout) and (not shell.recv_ready()) ):\n",
    "        time.sleep(1)\n",
    "    if (count<nTimeout):\n",
    "        out = shell.recv(999).decode()\n",
    "        out = out.splitlines()\n",
    "        out = out[1:len(out)]\n",
    "        # print(\"Send:\"+cmd+\", Receieved:\"+out)\n",
    "        return out\n",
    "    else:\n",
    "        print(\"Error: Time out!\")\n",
    "        return"
   ]
  },
  {
   "cell_type": "code",
   "execution_count": 3,
   "metadata": {},
   "outputs": [],
   "source": [
    "# flush the ssh terminal\n",
    "def flush(shell):\n",
    "    shell.settimeout(3)\n",
    "    try:\n",
    "        shell.recv(9999)\n",
    "    except:\n",
    "        print(\"Shell flushed!\")\n",
    "\n",
    "# reset the board (cmd = \"*RST\")\n",
    "def reset(shell):\n",
    "    shell.send('*RST\\n')\n",
    "    while not shell.recv_ready():\n",
    "        time.sleep(1)\n",
    "    out = shell.recv(9999)\n",
    "    print(out.decode())\n",
    "\n",
    "# query the available slots and channels (cmd = \"*OCC?\")\n",
    "def get_occupancy(shell):\n",
    "    cmd = \"*OCC?\"\n",
    "    lines = write_and_read(shell, cmd)\n",
    "    lines = lines[1:len(lines)]\n",
    "    occupancy = []\n",
    "    for slot in range(len(lines)):\n",
    "        slot_occupancy = lines[slot].rsplit(':')[1]\n",
    "        occupancy.append(int(slot_occupancy,2))\n",
    "        if (occupancy[slot]>0):\n",
    "            print(\"Slot {}:\".format(slot), end=\" \")\n",
    "            for ch in range(8):\n",
    "                if ( occupancy[slot]&(1<<(7-ch)) ):\n",
    "                    print(\"Ch {}: good,\".format(ch), end=\" \")\n",
    "                else:\n",
    "                    print(\"Ch {}: bad,\".format(ch), end=\" \")\n",
    "            print(\"\")\n",
    "        else:\n",
    "            print(\"Slot {} is not used\".format(slot))\n",
    "    occupancy = np.asarray(occupancy)\n",
    "    return occupancy\n",
    "\n",
    "RANGE_5V_UNI        =  \"5V_UNI\"\n",
    "RANGE_10V_UNI       =  \"10V_UNI\"\n",
    "RANGE_5V_BIP        =  \"5V_BIP\"\n",
    "RANGE_10V_BIP       =  \"10V_BIP\"\n",
    "RANGE_20mA_UNI      =  \"20mA_UNI\"\n",
    "RANGE_24mA_UNI      =  \"24mA_UNI\"\n",
    "RANGE_4_24mA        =  \"4_24mA\"\n",
    "RANGE_20mA_BIP      =  \"20mA_BIP\"\n",
    "RANGE_24mA_BIP      =  \"24mA_BIP\"\n",
    "RANGE_22mA_OVR      =  \"22mA_OVR\"\n",
    "\n",
    "# set the output range of a designated channel (cmd = \"slot:ch:CONF:md\")\n",
    "def config_channel_mode(shell, slot, ch, md):\n",
    "    cmd = \"{}:{}:CONF:\".format(slot,ch)+md\n",
    "    line = write_and_read(shell, cmd)[0]\n",
    "    print(line)\n",
    "\n",
    "# set the dac code of a designated channel (cmd = \"slot:ch:CODE:dac_code\")\n",
    "def set_dac_code(shell, slot, ch, dacCode):\n",
    "    dacCode = int(dacCode)\n",
    "    if dacCode>=0 and dacCode <= 65535:\n",
    "        cmd = \"{}:{}:CODE:{}\".format(slot, ch, dacCode)\n",
    "        line = write_and_read(shell, cmd)[0]\n",
    "        # print(line)\n",
    "    else:\n",
    "        print(\"Error: Value out of range!\")\n",
    "\n",
    "# set the output current of a designated channel (cmd = \"slot:ch:CURR:current\")\n",
    "def set_current(shell, slot, ch, value):\n",
    "    cmd = \"{}:{}:CURR:{}\".format(slot, ch, value)\n",
    "    line = write_and_read(shell, cmd)[0]\n",
    "    print(line)\n",
    "\n",
    "# set the output voltage of a designated channel (cmd = \"slot:ch:VOLT:voltage\")\n",
    "def set_voltage(shell, slot, ch, value):\n",
    "    cmd = \"{}:{}:VOLT:{}\".format(slot, ch, value)\n",
    "    line = write_and_read(shell, cmd)[0]\n",
    "    print(line)\n",
    "\n",
    "AD5753_REFIN           = \"AD_REFIN\"\n",
    "AD5753_REFGND          = \"AD_REFGND\"\n",
    "AD5753_ISENSE          = \"AD_CURR\"\n",
    "AD5753_LOADP           = \"AD_VLOAD\"\n",
    "MAX11254_CURRENT       = \"MAX_CURR\"\n",
    "MAX11254_SENSE_VOLTAGE = \"MAX_VSENSE\"\n",
    "MAX11254_LOAD_VOLTAGE  = \"MAX_VLOAD\"\n",
    "\n",
    "# perform a measurement from a designated channel (cmd = \"slot:ch:MEAS:md\")\n",
    "def measure(shell, slot, ch, md):\n",
    "    cmd = \"{}:{}:MEAS:\".format(slot,ch)+md\n",
    "    result = write_and_read(shell, cmd)\n",
    "    if (len(result)>0):\n",
    "        try: \n",
    "            result = float(result[0])\n",
    "        except ValueError:\n",
    "            print(result[0])\n",
    "    else:\n",
    "        result = 0\n",
    "    return result\n",
    "\n",
    "INTERNAL_LOAD = \"INTERNAL\"\n",
    "EXTERNAL_LOAD = \"EXTERNAL\"\n",
    "\n",
    "# toggle the output target (internal test load or external load) (cmd = \"slot:ch:REFR:value\")\n",
    "def toggle_output_switch(shell, slot, ch, value):\n",
    "    cmd = \"{}:{}:REFR:{}\".format(slot, ch, value)\n",
    "    line = write_and_read(shell, cmd)[0]\n",
    "    print(line)\n",
    "\n",
    "# set the calibration parameters of a specific channel (cmd = \"slot:ch:CALS:gain_v,offset_v,gain_i,offset_i\")\n",
    "def set_calibration_params(shell, slot, ch, gain_v, offset_v, gain_i, offset_i):\n",
    "    cmd = \"{}:{}:CALS:{},{},{},{},\".format(slot, ch, gain_v, offset_v, gain_i, offset_i)\n",
    "    line = write_and_read(shell, cmd)[0]\n",
    "    print(line)\n",
    "\n",
    "# clear the current calibration settings of all currently available channels (cmd = \"*CALC\")\n",
    "def reset_calibration(shell):\n",
    "    cmd = \"*CALC\"\n",
    "    line = write_and_read(shell, cmd)[0]\n",
    "    print(line)"
   ]
  },
  {
   "cell_type": "code",
   "execution_count": 4,
   "metadata": {},
   "outputs": [],
   "source": [
    "# save data to a csv file\n",
    "def save_csv(data, filename):\n",
    "    with open(filename, 'w', newline='') as csv_file:\n",
    "        csv_writer = csv.writer(csv_file, delimiter=',')\n",
    "        nRep = int((data.shape[1]-1)/3)\n",
    "        firstLine = ['dac_code']\n",
    "        for idx in range(nRep):\n",
    "            firstLine.append('iSense')\n",
    "            firstLine.append('VSense')\n",
    "            firstLine.append('VLoad')\n",
    "        csv_writer.writerow(firstLine)\n",
    "        csv_writer.writerows(data)\n",
    "\n",
    "# load data from a csv file\n",
    "def read_csv(filename):\n",
    "    data = []\n",
    "    with open(filename, 'r') as csv_file:\n",
    "        reader = csv.reader(csv_file, delimiter=',')\n",
    "        isFirstLine = True\n",
    "        # isFirstLine = False\n",
    "        for row in reader:\n",
    "            if not isFirstLine:\n",
    "                data.append([float(i) for i in row])\n",
    "            isFirstLine = False\n",
    "        data = np.asarray(data)\n",
    "    return data"
   ]
  },
  {
   "cell_type": "code",
   "execution_count": 5,
   "metadata": {},
   "outputs": [],
   "source": [
    "# plot a saved calibration result.\n",
    "def plot_cal(slot, ch, file_prefix):\n",
    "    filename = file_prefix+'Slot{}_Ch{}_cal1.csv'.format(slot,ch)\n",
    "    cal1 = read_csv(filename)\n",
    "    x1 = cal1[:,0]\n",
    "    v = (x1-32768)/32768*10\n",
    "    length = cal1.shape[1]\n",
    "    n = len(range(2,length,2))\n",
    "    vSense_avg = 0\n",
    "    for idx in range(2,length,2):\n",
    "        vSense_avg = vSense_avg+cal1[:,idx]\n",
    "    vSense_avg = vSense_avg/n\n",
    "\n",
    "    fig,axs = plt.subplots(2,1,figsize=(8,6),gridspec_kw={'height_ratios': [3, 1]})\n",
    "    axs[0].plot(x1,v,label = 'v')\n",
    "    axs[0].plot(x1,vSense_avg,label = 'vSense')\n",
    "    # axs[0].plot(x1,vLoad,label = 'vLoad')\n",
    "    axs[0].set_xlim(0,65536)\n",
    "    axs[0].set_ylabel('Voltage')\n",
    "    axs[0].set_title('Calibration: Channel {}, Voltage'.format(ch))\n",
    "    axs[0].legend()\n",
    "    # R2, res, inl, residual_vSense = evalute(x1,vSense_avg,v)\n",
    "    # axs[0].text(8000, -10, r'$R^2$:{:.13}, Res:{:.5}bits, INL:{:.3}LSBs'.format(R2, res, inl), fontsize=15)\n",
    "    # axs[1].plot(x1,vLoad-v,label='vLoad-v')\n",
    "    axs[1].plot(x1,vSense_avg-v,label='vSense-v')\n",
    "    axs[1].set_xlim(0,65536)\n",
    "    axs[1].set_xlabel('DAC Code')\n",
    "    axs[1].set_ylabel('Residual')\n",
    "    axs[1].legend()\n",
    "\n",
    "    filename = file_prefix+'Slot{}_Ch{}_cal2.csv'.format(slot,ch)\n",
    "    cal2 = read_csv(filename)\n",
    "    x2 = cal2[:,0]\n",
    "    i = (x1-32768)/32768*20\n",
    "    iSense_avg = 0\n",
    "    for idx in range(1,length,2):\n",
    "        iSense_avg = iSense_avg+cal2[:,idx]\n",
    "    iSense_avg = iSense_avg/n\n",
    "\n",
    "    fig,axs = plt.subplots(2,1,figsize=(8,6),gridspec_kw={'height_ratios': [3, 1]})\n",
    "    axs[0].plot(x2,i,label = 'i')\n",
    "    axs[0].plot(x2,iSense_avg,label = 'iSense')\n",
    "    axs[0].set_xlim(0,65536)\n",
    "    axs[0].set_ylabel('Current')\n",
    "    axs[0].set_title('Calibration: Channel {}, Current'.format(ch))\n",
    "    axs[0].legend()\n",
    "    # R2, res, inl, residual_iSense = evalute(x2,iSense_avg,i)\n",
    "    # axs[0].text(5000, -20, r'$R^2$:{:.13}, Res:{:.5}bits, INL:{:.5}LSBs'.format(R2, res, inl), fontsize=15)\n",
    "    axs[1].plot(x1,iSense_avg-i,label='iSense-i')\n",
    "    axs[1].set_xlim(0,65536)\n",
    "    axs[1].set_xlabel('DAC Code')\n",
    "    axs[1].set_ylabel('Residual')\n",
    "    axs[1].legend()"
   ]
  },
  {
   "cell_type": "markdown",
   "metadata": {},
   "source": [
    "#### 3 Setup connection to the controller"
   ]
  },
  {
   "cell_type": "code",
   "execution_count": 6,
   "metadata": {
    "tags": []
   },
   "outputs": [
    {
     "output_type": "stream",
     "name": "stdout",
     "text": "cd imebuildv2/software/controllers/raspberryPi\nsudo ./main\npi@raspberrypi:~$ cd imebuildv2/software/controllers/raspberryPi\npi@raspberrypi:~/imebuildv2/software/controllers/raspberryPi$ sudo ./main\n----Controller Loaded----\n----   Monitor Reset   ----\nSlot 00: Ch 0: Good Y, Ch 1: Bad, Ch 2: Good Y, Ch 3: Good Y, Ch 4: Good Y, Ch 5: Good Y, Ch 6: Good Y, Ch 7: Good Y, \nSlot 01 is not used\nSlot 02: Ch 0: Bad, Ch 1: Good Y, Ch 2: Good Y, Ch 3: Good Y, Ch 4: Good Y, Ch 5: Good Y, Ch 6: Good Y, Ch 7: Good Y, \nSlot 03 is not used\nSlot 04: Ch 0: Good Y, Ch 1: Bad, Ch 2: Good Y, Ch 3: Good Y, Ch 4: Good Y, Ch 5: Good Y, Ch 6: Good Y, Ch 7: Good Y, \nSlot 05 is not used\nSlot 06: Ch 0: Good Y, Ch 1: Bad, Ch 2: Good Y, Ch 3: Good Y, Ch 4: Good Y, Ch 5: Good Y, Ch 6: Good Y, Ch 7: Good Y, \nSlot 07 is not used\nSlot 08: Ch 0: Good Y, Ch 1: Good Y, Ch 2: Good Y, Ch 3: Good N, Ch 4: Good Y, Ch 5: Good Y, Ch 6: Good Y, Ch 7: Good Y, \nSlot 09 is not used\nSlot 10: Ch 0: Bad, Ch 1: Bad, Ch 2: Good Y, Ch 3: Good Y, Ch 4: Good Y, Ch 5: Good Y, Ch 6: Good Y, Ch 7: Good Y, \nSlot 11 is not used\nSlot 12: Ch 0: Good Y, Ch 1: Bad, Ch 2: Good Y, Ch 3: Good Y, Ch 4: Good Y, Ch 5: Good Y, Ch 6: Good Y, Ch 7: Bad, \nSlot 13 is not used\nSlot 14: Ch 0: Good Y, Ch 1: Bad, Ch 2: Good Y, Ch 3: Good Y, Ch 4: Good Y, Ch 5: Good Y, Ch 6: Good Y, Ch 7: Good Y, \nSlot 15 is not used\n----   Monitor Reset   ----\n---> Setup finished successfully. Found 55 SMU(s)\nDone!\n"
    }
   ],
   "source": [
    "# connect to controller (raspberry Pi) via ssh\n",
    "ssh = paramiko.SSHClient()\n",
    "ssh.set_missing_host_key_policy(paramiko.AutoAddPolicy())\n",
    "ssh.connect('10.9.102.149', username='pi', password='lightlab')\n",
    "shell = ssh.invoke_shell()\n",
    "flush(shell)\n",
    "shell.send('cd imebuildv2/software/controllers/raspberryPi\\n')\n",
    "shell.send('sudo ./main\\n')\n",
    "while not shell.recv_ready():\n",
    "    time.sleep(3)\n",
    "shell.settimeout(3)\n",
    "out = shell.recv(9999).decode()\n",
    "while (1):\n",
    "    print(out, end=\"\")\n",
    "    try:\n",
    "        out = shell.recv(9999).decode()\n",
    "    except:\n",
    "        print(\"Done!\")\n",
    "        break"
   ]
  },
  {
   "cell_type": "markdown",
   "metadata": {},
   "source": [
    "#### 4 Examples of sourcing voltages and currents"
   ]
  },
  {
   "cell_type": "code",
   "execution_count": 8,
   "metadata": {
    "tags": []
   },
   "outputs": [
    {
     "output_type": "stream",
     "name": "stdout",
     "text": "Set Slot 4 Channel 0's mode to: 10V BIP\nSet slot 4 channel 0's voltage to 1.000000V (0x8CCC)\n"
    },
    {
     "output_type": "execute_result",
     "data": {
      "text/plain": "0.999936"
     },
     "metadata": {},
     "execution_count": 8
    }
   ],
   "source": [
    "##Demo: Sourcing voltage\n",
    "# flush(shell)\n",
    "slot = 4\n",
    "ch = 0\n",
    "config_channel_mode(shell, slot, ch, RANGE_10V_BIP)\n",
    "set_voltage(shell, slot, ch, 1)\n",
    "measure(shell, slot, ch, MAX11254_SENSE_VOLTAGE)"
   ]
  },
  {
   "cell_type": "code",
   "execution_count": 7,
   "metadata": {
    "tags": []
   },
   "outputs": [
    {
     "output_type": "stream",
     "name": "stdout",
     "text": "Set Slot 4 Channel 0's mode to: 20mA BIP\nSet slot 4 channel 0's current to 1.000000mA (0x8665)\n"
    },
    {
     "output_type": "execute_result",
     "data": {
      "text/plain": "1.008593"
     },
     "metadata": {},
     "execution_count": 7
    }
   ],
   "source": [
    "##Demo: Sourcing current\n",
    "# flush(channel)\n",
    "slot = 4\n",
    "ch = 0\n",
    "config_channel_mode(shell, slot, ch, RANGE_20mA_BIP)\n",
    "set_current(shell, slot, ch, 1)\n",
    "measure(shell, slot, ch, MAX11254_CURRENT)"
   ]
  },
  {
   "cell_type": "code",
   "execution_count": 9,
   "metadata": {},
   "outputs": [],
   "source": [
    "# close ssh connection\n",
    "ssh.close() "
   ]
  },
  {
   "cell_type": "code",
   "execution_count": null,
   "metadata": {},
   "outputs": [],
   "source": []
  }
 ],
 "metadata": {
  "language_info": {
   "codemirror_mode": {
    "name": "ipython",
    "version": 3
   },
   "file_extension": ".py",
   "mimetype": "text/x-python",
   "name": "python",
   "nbconvert_exporter": "python",
   "pygments_lexer": "ipython3",
   "version": 3
  },
  "orig_nbformat": 2,
  "kernelspec": {
   "name": "python_defaultSpec_1595354844750",
   "display_name": "Python 3.7.3 64-bit ('base': conda)"
  }
 },
 "nbformat": 4,
 "nbformat_minor": 2
}